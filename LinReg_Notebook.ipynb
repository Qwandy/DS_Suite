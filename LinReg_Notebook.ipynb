{
 "cells": [
  {
   "cell_type": "code",
   "execution_count": 3,
   "metadata": {},
   "outputs": [
    {
     "name": "stdout",
     "output_type": "stream",
     "text": [
      "Collecting matplotlib\n",
      "  Downloading matplotlib-3.9.0-cp39-cp39-win_amd64.whl.metadata (11 kB)\n",
      "Collecting contourpy>=1.0.1 (from matplotlib)\n",
      "  Downloading contourpy-1.2.1-cp39-cp39-win_amd64.whl.metadata (5.8 kB)\n",
      "Collecting cycler>=0.10 (from matplotlib)\n",
      "  Downloading cycler-0.12.1-py3-none-any.whl.metadata (3.8 kB)\n",
      "Collecting fonttools>=4.22.0 (from matplotlib)\n",
      "  Downloading fonttools-4.53.0-cp39-cp39-win_amd64.whl.metadata (165 kB)\n",
      "     ---------------------------------------- 0.0/165.5 kB ? eta -:--:--\n",
      "     -------------------------------------- 165.5/165.5 kB 3.3 MB/s eta 0:00:00\n",
      "Collecting kiwisolver>=1.3.1 (from matplotlib)\n",
      "  Downloading kiwisolver-1.4.5-cp39-cp39-win_amd64.whl.metadata (6.5 kB)\n",
      "Requirement already satisfied: numpy>=1.23 in c:\\users\\lenovo thinkpad\\pythondirectory\\test-env\\lib\\site-packages (from matplotlib) (1.26.2)\n",
      "Requirement already satisfied: packaging>=20.0 in c:\\users\\lenovo thinkpad\\pythondirectory\\test-env\\lib\\site-packages (from matplotlib) (23.2)\n",
      "Collecting pillow>=8 (from matplotlib)\n",
      "  Downloading pillow-10.3.0-cp39-cp39-win_amd64.whl.metadata (9.4 kB)\n",
      "Collecting pyparsing>=2.3.1 (from matplotlib)\n",
      "  Downloading pyparsing-3.1.2-py3-none-any.whl.metadata (5.1 kB)\n",
      "Requirement already satisfied: python-dateutil>=2.7 in c:\\users\\lenovo thinkpad\\pythondirectory\\test-env\\lib\\site-packages (from matplotlib) (2.8.2)\n",
      "Collecting importlib-resources>=3.2.0 (from matplotlib)\n",
      "  Downloading importlib_resources-6.4.0-py3-none-any.whl.metadata (3.9 kB)\n",
      "Requirement already satisfied: zipp>=3.1.0 in c:\\users\\lenovo thinkpad\\pythondirectory\\test-env\\lib\\site-packages (from importlib-resources>=3.2.0->matplotlib) (3.17.0)\n",
      "Requirement already satisfied: six>=1.5 in c:\\users\\lenovo thinkpad\\pythondirectory\\test-env\\lib\\site-packages (from python-dateutil>=2.7->matplotlib) (1.16.0)\n",
      "Downloading matplotlib-3.9.0-cp39-cp39-win_amd64.whl (7.9 MB)\n",
      "   ---------------------------------------- 0.0/7.9 MB ? eta -:--:--\n",
      "   - -------------------------------------- 0.4/7.9 MB 12.2 MB/s eta 0:00:01\n",
      "   -- ------------------------------------- 0.6/7.9 MB 9.1 MB/s eta 0:00:01\n",
      "   ------ --------------------------------- 1.2/7.9 MB 9.8 MB/s eta 0:00:01\n",
      "   -------- ------------------------------- 1.7/7.9 MB 9.7 MB/s eta 0:00:01\n",
      "   ---------- ----------------------------- 2.1/7.9 MB 9.5 MB/s eta 0:00:01\n",
      "   ------------ --------------------------- 2.5/7.9 MB 9.4 MB/s eta 0:00:01\n",
      "   -------------- ------------------------- 2.9/7.9 MB 9.4 MB/s eta 0:00:01\n",
      "   ----------------- ---------------------- 3.4/7.9 MB 9.4 MB/s eta 0:00:01\n",
      "   ------------------- -------------------- 3.8/7.9 MB 9.3 MB/s eta 0:00:01\n",
      "   --------------------- ------------------ 4.2/7.9 MB 9.3 MB/s eta 0:00:01\n",
      "   ----------------------- ---------------- 4.6/7.9 MB 9.2 MB/s eta 0:00:01\n",
      "   ------------------------- -------------- 5.0/7.9 MB 9.2 MB/s eta 0:00:01\n",
      "   --------------------------- ------------ 5.5/7.9 MB 9.2 MB/s eta 0:00:01\n",
      "   ----------------------------- ---------- 5.9/7.9 MB 9.1 MB/s eta 0:00:01\n",
      "   ------------------------------- -------- 6.3/7.9 MB 9.1 MB/s eta 0:00:01\n",
      "   --------------------------------- ------ 6.7/7.9 MB 9.3 MB/s eta 0:00:01\n",
      "   ----------------------------------- ---- 7.1/7.9 MB 9.3 MB/s eta 0:00:01\n",
      "   ------------------------------------- -- 7.5/7.9 MB 9.3 MB/s eta 0:00:01\n",
      "   ---------------------------------------  7.9/7.9 MB 9.2 MB/s eta 0:00:01\n",
      "   ---------------------------------------- 7.9/7.9 MB 8.9 MB/s eta 0:00:00\n",
      "Downloading contourpy-1.2.1-cp39-cp39-win_amd64.whl (182 kB)\n",
      "   ---------------------------------------- 0.0/182.8 kB ? eta -:--:--\n",
      "   --------------------------------------- 182.8/182.8 kB 11.5 MB/s eta 0:00:00\n",
      "Downloading cycler-0.12.1-py3-none-any.whl (8.3 kB)\n",
      "Downloading fonttools-4.53.0-cp39-cp39-win_amd64.whl (2.2 MB)\n",
      "   ---------------------------------------- 0.0/2.2 MB ? eta -:--:--\n",
      "   ------- -------------------------------- 0.4/2.2 MB 13.2 MB/s eta 0:00:01\n",
      "   --------------- ------------------------ 0.9/2.2 MB 9.2 MB/s eta 0:00:01\n",
      "   ----------------------- ---------------- 1.3/2.2 MB 10.3 MB/s eta 0:00:01\n",
      "   ------------------------------- -------- 1.7/2.2 MB 9.9 MB/s eta 0:00:01\n",
      "   ---------------------------------------  2.2/2.2 MB 9.8 MB/s eta 0:00:01\n",
      "   ---------------------------------------- 2.2/2.2 MB 8.8 MB/s eta 0:00:00\n",
      "Downloading importlib_resources-6.4.0-py3-none-any.whl (38 kB)\n",
      "Downloading kiwisolver-1.4.5-cp39-cp39-win_amd64.whl (56 kB)\n",
      "   ---------------------------------------- 0.0/56.2 kB ? eta -:--:--\n",
      "   ---------------------------------------- 56.2/56.2 kB 2.9 MB/s eta 0:00:00\n",
      "Downloading pillow-10.3.0-cp39-cp39-win_amd64.whl (2.5 MB)\n",
      "   ---------------------------------------- 0.0/2.5 MB ? eta -:--:--\n",
      "   ------- -------------------------------- 0.5/2.5 MB 14.2 MB/s eta 0:00:01\n",
      "   ------------- -------------------------- 0.9/2.5 MB 10.9 MB/s eta 0:00:01\n",
      "   -------------------- ------------------- 1.3/2.5 MB 10.2 MB/s eta 0:00:01\n",
      "   -------------------------- ------------- 1.6/2.5 MB 9.5 MB/s eta 0:00:01\n",
      "   --------------------------------- ------ 2.1/2.5 MB 9.5 MB/s eta 0:00:01\n",
      "   -------------------------------------- - 2.4/2.5 MB 9.2 MB/s eta 0:00:01\n",
      "   ---------------------------------------- 2.5/2.5 MB 8.5 MB/s eta 0:00:00\n",
      "Downloading pyparsing-3.1.2-py3-none-any.whl (103 kB)\n",
      "   ---------------------------------------- 0.0/103.2 kB ? eta -:--:--\n",
      "   ---------------------------------------- 103.2/103.2 kB 5.8 MB/s eta 0:00:00\n",
      "Installing collected packages: pyparsing, pillow, kiwisolver, importlib-resources, fonttools, cycler, contourpy, matplotlib\n",
      "Successfully installed contourpy-1.2.1 cycler-0.12.1 fonttools-4.53.0 importlib-resources-6.4.0 kiwisolver-1.4.5 matplotlib-3.9.0 pillow-10.3.0 pyparsing-3.1.2\n"
     ]
    },
    {
     "name": "stderr",
     "output_type": "stream",
     "text": [
      "\n",
      "[notice] A new release of pip is available: 23.3.1 -> 24.1.1\n",
      "[notice] To update, run: python.exe -m pip install --upgrade pip\n"
     ]
    }
   ],
   "source": [
    "!pip install matplotlib"
   ]
  },
  {
   "cell_type": "code",
   "execution_count": 8,
   "metadata": {},
   "outputs": [
    {
     "name": "stdout",
     "output_type": "stream",
     "text": [
      "Requirement already satisfied: scikit-learn in c:\\users\\lenovo thinkpad\\pythondirectory\\test-env\\lib\\site-packages (1.3.2)\n",
      "Requirement already satisfied: numpy<2.0,>=1.17.3 in c:\\users\\lenovo thinkpad\\pythondirectory\\test-env\\lib\\site-packages (from scikit-learn) (1.26.2)\n",
      "Requirement already satisfied: scipy>=1.5.0 in c:\\users\\lenovo thinkpad\\pythondirectory\\test-env\\lib\\site-packages (from scikit-learn) (1.11.4)\n",
      "Requirement already satisfied: joblib>=1.1.1 in c:\\users\\lenovo thinkpad\\pythondirectory\\test-env\\lib\\site-packages (from scikit-learn) (1.3.2)\n",
      "Requirement already satisfied: threadpoolctl>=2.0.0 in c:\\users\\lenovo thinkpad\\pythondirectory\\test-env\\lib\\site-packages (from scikit-learn) (3.2.0)\n"
     ]
    },
    {
     "name": "stderr",
     "output_type": "stream",
     "text": [
      "\n",
      "[notice] A new release of pip is available: 23.3.1 -> 24.1.1\n",
      "[notice] To update, run: python.exe -m pip install --upgrade pip\n"
     ]
    }
   ],
   "source": [
    "!pip install scikit-learn"
   ]
  },
  {
   "cell_type": "markdown",
   "metadata": {},
   "source": [
    "# Imports"
   ]
  },
  {
   "cell_type": "code",
   "execution_count": 10,
   "metadata": {},
   "outputs": [],
   "source": [
    "import pandas as pd \n",
    "import matplotlib.pyplot as plt \n",
    "import numpy as np\n",
    "from sklearn import datasets"
   ]
  },
  {
   "cell_type": "markdown",
   "metadata": {},
   "source": [
    "## Linear Regression algorithm"
   ]
  },
  {
   "cell_type": "markdown",
   "metadata": {},
   "source": [
    "1. Initialise the class with a set learning rate, and number of iterations. Set weight and bias to None.\n",
    "2. Inside the fit function: unpack sample number and features from shape of X, create random weights for size of samples and bias to 0.\n",
    "3. Loop over the set number of iterations and inside the loop do a dot product of the weights and X Values, create differentials for the weights and bias and update the weights and bias using respective differentials, return self\n",
    "4. Inside predict function, dot product the weights with X and add the bias"
   ]
  },
  {
   "cell_type": "code",
   "execution_count": 51,
   "metadata": {},
   "outputs": [],
   "source": [
    "class LinearRegression:\n",
    "    def __init__(self, lr: int = 0.01, n_iters: int=1000) -> None:\n",
    "        # initialise class parameters\n",
    "        self.lr = lr # parameterised learning rate\n",
    "        self.n_iters = n_iters # parameterised number of iterations\n",
    "        self.weights = None # set weights to None as they will be found during fitting\n",
    "        self.bias = None  # set bias to None as it will be found during fitting\n",
    "\n",
    "    def fit(self, X, y):\n",
    "        sample_number, sample_features = X.shape # unpack sample number and sample features from shape of X\n",
    "        self.weights = np.random.rand(sample_features) # create random weights for start of fitting\n",
    "        self.bias = 0 # set initial bias to 0\n",
    "\n",
    "        for i in range(self.n_iters):\n",
    "            y_pred = np.dot(X, self.weights) + self.bias # y = WnXn + b so do dot product\n",
    "\n",
    "            # differentials\n",
    "            dw = (1/sample_number) * np.dot(X.T, y_pred - y) #dw = dyX^T / num_samples\n",
    "            db = (1/sample_number) * np.sum(y_pred-y) # db = sum(dy) / num_samples\n",
    "\n",
    "            self.weights = self.weights - (self.lr * dw) # update weights after fitting iteration\n",
    "            self.bias = self.bias - (self.lr * db)  # update bias after fitting iteration\n",
    "\n",
    "        return self # return the model itself\n",
    "\n",
    "    def predict(self, X):\n",
    "        return np.dot(X, self.weights) + self.bias # recreate line of best fit with newfound weights and bias"
   ]
  },
  {
   "cell_type": "code",
   "execution_count": 52,
   "metadata": {},
   "outputs": [
    {
     "data": {
      "image/png": "[encoded data removed]",
      "text/plain": [
       "<Figure size 640x480 with 1 Axes>"
      ]
     },
     "metadata": {},
     "output_type": "display_data"
    }
   ],
   "source": [
    "regressor = LinearRegression()\n",
    "\n",
    "reg = regressor.fit(X, y)\n",
    "\n",
    "y_pred = reg.predict(X)\n",
    "\n",
    "plt.figure()\n",
    "plt.scatter(X, y)\n",
    "plt.plot(X, y_pred, 'b')\n",
    "plt.show()"
   ]
  }
 ],
 "metadata": {
  "kernelspec": {
   "display_name": "Python 3",
   "language": "python",
   "name": "python3"
  },
  "language_info": {
   "codemirror_mode": {
    "name": "ipython",
    "version": 3
   },
   "file_extension": ".py",
   "mimetype": "text/x-python",
   "name": "python",
   "nbconvert_exporter": "python",
   "pygments_lexer": "ipython3",
   "version": "3.9.13"
  }
 },
 "nbformat": 4,
 "nbformat_minor": 2
}
